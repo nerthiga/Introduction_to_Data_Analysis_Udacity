{
  "nbformat": 4,
  "nbformat_minor": 0,
  "metadata": {
    "colab": {
      "name": "Quiz.ipynb",
      "provenance": [],
      "authorship_tag": "ABX9TyM9JLGmkc3cNRNidMyRh8tw",
      "include_colab_link": true
    },
    "kernelspec": {
      "name": "python3",
      "display_name": "Python 3"
    }
  },
  "cells": [
    {
      "cell_type": "markdown",
      "metadata": {
        "id": "view-in-github",
        "colab_type": "text"
      },
      "source": [
        "<a href=\"https://colab.research.google.com/github/nerthiga/Introduction_to_Data_Analysis_Udacity/blob/main/Quiz.ipynb\" target=\"_parent\"><img src=\"https://colab.research.google.com/assets/colab-badge.svg\" alt=\"Open In Colab\"/></a>"
      ]
    },
    {
      "cell_type": "code",
      "metadata": {
        "id": "CXQCFhx5fU7v"
      },
      "source": [
        "import numpy as np\n",
        "\n",
        "# First 20 countries with employment data\n",
        "countries = np.array([\n",
        "    'Afghanistan', 'Albania', 'Algeria', 'Angola', 'Argentina',\n",
        "    'Armenia', 'Australia', 'Austria', 'Azerbaijan', 'Bahamas',\n",
        "    'Bahrain', 'Bangladesh', 'Barbados', 'Belarus', 'Belgium',\n",
        "    'Belize', 'Benin', 'Bhutan', 'Bolivia',\n",
        "    'Bosnia and Herzegovina'\n",
        "])\n",
        "\n",
        "# Employment data in 2007 for those 20 countries\n",
        "employment = np.array([\n",
        "    55.70000076,  51.40000153,  50.5       ,  75.69999695,\n",
        "    58.40000153,  40.09999847,  61.5       ,  57.09999847,\n",
        "    60.90000153,  66.59999847,  60.40000153,  68.09999847,\n",
        "    66.90000153,  53.40000153,  48.59999847,  56.79999924,\n",
        "    71.59999847,  58.40000153,  70.40000153,  41.20000076\n",
        "])\n",
        "\n",
        "# Change False to True for each block of code to see what it does\n",
        "\n",
        "# Accessing elements\n",
        "if True:\n",
        "    print countries[0]\n",
        "    print countries[3]\n",
        "\n",
        "# Slicing\n",
        "if True:\n",
        "    print countries[0:3]\n",
        "    print countries[:3]\n",
        "    print countries[17:]\n",
        "    print countries[:]\n",
        "\n",
        "# Element types\n",
        "if True:\n",
        "    print countries.dtype\n",
        "    print employment.dtype\n",
        "    print np.array([0, 1, 2, 3]).dtype\n",
        "    print np.array([1.0, 1.5, 2.0, 2.5]).dtype\n",
        "    print np.array([True, False, True]).dtype\n",
        "    print np.array(['AL', 'AK', 'AZ', 'AR', 'CA']).dtype\n",
        "\n",
        "# Looping\n",
        "if True:\n",
        "    for country in countries:\n",
        "        print 'Examining country {}'.format(country)\n",
        "\n",
        "    for i in range(len(countries)):\n",
        "        country = countries[i]\n",
        "        country_employment = employment[i]\n",
        "        print 'Country {} has employment {}'.format(country,\n",
        "                country_employment)\n",
        "\n",
        "# Numpy functions\n",
        "if True:\n",
        "    print employment.mean()\n",
        "    print employment.std()\n",
        "    print employment.max()\n",
        "    print employment.sum()\n"
      ],
      "execution_count": null,
      "outputs": []
    },
    {
      "cell_type": "code",
      "metadata": {
        "id": "I-MUP7fOf6LY"
      },
      "source": [
        "def max_employment(countries, employment):\n",
        "    '''\n",
        "    Fill in this function to return the name of the country\n",
        "    with the highest employment in the given employment\n",
        "    data, and the employment in that country.\n",
        "    '''\n",
        "\n",
        "    max_country = None\n",
        "    max_value = 0   \n",
        "    for i in range(len(employment)):\n",
        "        country = countries[i]\n",
        "        country_employment = employment[i]\n",
        "        if country_employment>max_value:\n",
        "           max_country = country\n",
        "           max_value = country_employment\n",
        "\n",
        "    return (max_country, max_value)\n",
        "    \n",
        "    "
      ],
      "execution_count": null,
      "outputs": []
    }
  ]
}