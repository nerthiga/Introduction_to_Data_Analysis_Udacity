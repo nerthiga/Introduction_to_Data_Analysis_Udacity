{
  "nbformat": 4,
  "nbformat_minor": 0,
  "metadata": {
    "colab": {
      "name": "Quiz1_lesson1.ipynb",
      "provenance": [],
      "authorship_tag": "ABX9TyMGBn2Xjdx8utjLyU6vSGbY",
      "include_colab_link": true
    },
    "kernelspec": {
      "name": "python3",
      "display_name": "Python 3"
    }
  },
  "cells": [
    {
      "cell_type": "markdown",
      "metadata": {
        "id": "view-in-github",
        "colab_type": "text"
      },
      "source": [
        "<a href=\"https://colab.research.google.com/github/nerthiga/Introduction_to_Data_Analysis_Udacity/blob/main/Quiz1_lesson1.ipynb\" target=\"_parent\"><img src=\"https://colab.research.google.com/assets/colab-badge.svg\" alt=\"Open In Colab\"/></a>"
      ]
    },
    {
      "cell_type": "code",
      "metadata": {
        "id": "GRKQYuskpBbB"
      },
      "source": [
        "import unicodecsv\n",
        "\n",
        "enrollments_filename = '/datasets/ud170/udacity-students/enrollments.csv'\n",
        "\n",
        "## Longer version of code (replaced with shorter, equivalent version below)\n",
        "\n",
        "# enrollments = []\n",
        "# f = open(enrollments_filename, 'rb')\n",
        "# reader = unicodecsv.DictReader(f)\n",
        "# for row in reader:\n",
        "#     enrollments.append(row)\n",
        "# f.close()\n",
        "\n",
        "with open(enrollments_filename, 'rb') as f:\n",
        "    reader = unicodecsv.DictReader(f)\n",
        "    enrollments = list(reader)\n",
        "    \n",
        "### Write code similar to the above to load the engagement\n",
        "### and submission data. The data is stored in files with\n",
        "### the given filenames. Then print the first row of each\n",
        "### table to make sure that your code works. You can use the\n",
        "### \"Test Run\" button to see the output of your code.\n",
        "\n",
        "engagement_filename = '/datasets/ud170/udacity-students/daily_engagement.csv'\n",
        "submissions_filename = '/datasets/ud170/udacity-students/project_submissions.csv'\n",
        "    \n",
        "with open(engagement_filename, 'rb') as f:\n",
        "    reader=unicodecsv.DictReader(f)\n",
        "    daily_engagement=list(reader)\n",
        "\n",
        "with open(submissions_filename,'rb') as f:\n",
        "    reader=unicodecsv.DictReader(f)\n",
        "    project_submissions=list(reader)\n",
        "    \n",
        "print enrollments[0]    \n",
        "print daily_engagement[0]\n",
        "print project_submissions[0]\n",
        "\n",
        "\n"
      ],
      "execution_count": null,
      "outputs": []
    },
    {
      "cell_type": "code",
      "metadata": {
        "id": "qAOMNfUepugL"
      },
      "source": [
        "import unicodecsv\n",
        "\n",
        "def read_csv(filename):\n",
        "    with open(filename, 'rb') as f:\n",
        "        reader = unicodecsv.DictReader(f)\n",
        "        return list(reader)\n",
        "\n",
        "enrollments = read_csv('/datasets/ud170/udacity-students/enrollments.csv')\n",
        "daily_engagement = read_csv('/datasets/ud170/udacity-students/daily_engagement.csv')\n",
        "project_submissions = read_csv('/datasets/ud170/udacity-students/project_submissions.csv')\n",
        "    \n",
        "### For each of these three tables, find the number of rows in the table and\n",
        "### the number of unique students in the table. To find the number of unique\n",
        "### students, you might want to create a set of the account keys in each table.\n",
        "\n",
        "enrollment_num_rows = len(enrollments)  # Replace this with your code\n",
        "unique_enrolled_students=set()\n",
        "for enrollment in enrollments:\n",
        "    unique_enrolled_students.add(enrollment['account_key'])\n",
        "    enrollment_num_unique_students = len(unique_enrolled_students) # Replace this with your code\n",
        "print enrollment_num_rows \n",
        "print enrollment_num_unique_students \n",
        "\n",
        "engagement_num_rows = len(daily_engagement) # Replace this with your code\n",
        "unique_daily_engagement=set()\n",
        "for engagement in daily_engagement:\n",
        "    unique_daily_engagement.add(engagement['acct'])\n",
        "    engagement_num_unique_students = len(unique_daily_engagement)  # Replace this with your code\n",
        "    \n",
        "print engagement_num_rows\n",
        "print engagement_num_unique_students\n",
        "\n",
        "submission_num_rows = len(project_submissions) # Replace this with your code\n",
        "unique_project_submission=set()\n",
        "for submission in project_submissions:\n",
        "    unique_project_submission.add(submission['account_key'])\n",
        "    submission_num_unique_students = len(unique_project_submission)  # Replace this with your code\n",
        "    \n",
        "print submission_num_rows\n",
        "print submission_num_unique_students\n",
        "\n",
        "for engagement in daily_engagement:\n",
        "    engagement['account_key']=engagement['acct']\n",
        "    del engagement['acct']\n",
        "\n",
        "print daily_engagement[0]['account_key'] \n",
        "\n",
        "for enrollment in enrollments:\n",
        "    student=enrollment['account_key']\n",
        "    if student not in unique_daily_engagement:\n",
        "        print enrollment\n",
        "        break\n",
        "    \n",
        "num_students=0\n",
        "for enrollment in enrollments:\n",
        "    student=enrollment['account_key']\n",
        "    if student not in unique_daily_engagement and enrollment['join_date']!=enrollment['cancel_date']:\n",
        "        num_students+=1\n",
        "        \n",
        "print num_students\n",
        "\n",
        "\n"
      ],
      "execution_count": null,
      "outputs": []
    }
  ]
}