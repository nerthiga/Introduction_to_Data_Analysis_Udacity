{
  "nbformat": 4,
  "nbformat_minor": 0,
  "metadata": {
    "colab": {
      "name": "Quiz1_lesson1.ipynb",
      "provenance": []
    },
    "kernelspec": {
      "name": "python3",
      "display_name": "Python 3"
    }
  },
  "cells": [
    {
      "cell_type": "code",
      "metadata": {
        "id": "GRKQYuskpBbB"
      },
      "source": [
        "import unicodecsv\n",
        "\n",
        "enrollments_filename = '/datasets/ud170/udacity-students/enrollments.csv'\n",
        "\n",
        "## Longer version of code (replaced with shorter, equivalent version below)\n",
        "\n",
        "# enrollments = []\n",
        "# f = open(enrollments_filename, 'rb')\n",
        "# reader = unicodecsv.DictReader(f)\n",
        "# for row in reader:\n",
        "#     enrollments.append(row)\n",
        "# f.close()\n",
        "\n",
        "with open(enrollments_filename, 'rb') as f:\n",
        "    reader = unicodecsv.DictReader(f)\n",
        "    enrollments = list(reader)\n",
        "    \n",
        "### Write code similar to the above to load the engagement\n",
        "### and submission data. The data is stored in files with\n",
        "### the given filenames. Then print the first row of each\n",
        "### table to make sure that your code works. You can use the\n",
        "### \"Test Run\" button to see the output of your code.\n",
        "\n",
        "engagement_filename = '/datasets/ud170/udacity-students/daily_engagement.csv'\n",
        "submissions_filename = '/datasets/ud170/udacity-students/project_submissions.csv'\n",
        "    \n",
        "with open(engagement_filename, 'rb') as f:\n",
        "    reader=unicodecsv.DictReader(f)\n",
        "    daily_engagement=list(reader)\n",
        "\n",
        "with open(submissions_filename,'rb') as f:\n",
        "    reader=unicodecsv.DictReader(f)\n",
        "    project_submissions=list(reader)\n",
        "    \n",
        "print enrollments[0]    \n",
        "print daily_engagement[0]\n",
        "print project_submissions[0]\n",
        "\n",
        "\n"
      ],
      "execution_count": null,
      "outputs": []
    }
  ]
}