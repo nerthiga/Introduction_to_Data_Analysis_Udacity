{
  "nbformat": 4,
  "nbformat_minor": 0,
  "metadata": {
    "colab": {
      "name": "Quiz_chapter3.ipynb",
      "provenance": [],
      "authorship_tag": "ABX9TyOPA4pAwjnyFw8mN9f3r/Vx",
      "include_colab_link": true
    },
    "kernelspec": {
      "name": "python3",
      "display_name": "Python 3"
    }
  },
  "cells": [
    {
      "cell_type": "markdown",
      "metadata": {
        "id": "view-in-github",
        "colab_type": "text"
      },
      "source": [
        "<a href=\"https://colab.research.google.com/github/nerthiga/Introduction_to_Data_Analysis_Udacity/blob/main/Quiz_chapter3.ipynb\" target=\"_parent\"><img src=\"https://colab.research.google.com/assets/colab-badge.svg\" alt=\"Open In Colab\"/></a>"
      ]
    },
    {
      "cell_type": "code",
      "metadata": {
        "id": "gckyOtNLQeCM"
      },
      "source": [
        "def mean_riders_for_max_station(ridership):\n",
        "    '''\n",
        "    Fill in this function to find the station with the maximum riders on the\n",
        "    first day, then return the mean riders per day for that station. Also\n",
        "    return the mean ridership overall for comparsion.\n",
        "    \n",
        "    Hint: NumPy's argmax() function might be useful:\n",
        "    http://docs.scipy.org/doc/numpy/reference/generated/numpy.argmax.html\n",
        "    '''\n",
        "    \n",
        "    max_station = ridership[0, :].argmax()\n",
        "    overall_mean = ridership.mean()\n",
        "    mean_for_max = ridership[:, max_station].mean() \n",
        "    \n",
        "    return (overall_mean, mean_for_max)\n",
        "    \n",
        "print mean_riders_for_max_station(ridership)    \n",
        "    \n",
        "    "
      ],
      "execution_count": null,
      "outputs": []
    },
    {
      "cell_type": "code",
      "metadata": {
        "id": "fP3oHrtRRA0B"
      },
      "source": [
        "ridership = np.array([\n",
        "    [   0,    0,    2,    5,    0],\n",
        "    [1478, 3877, 3674, 2328, 2539],\n",
        "    [1613, 4088, 3991, 6461, 2691],\n",
        "    [1560, 3392, 3826, 4787, 2613],\n",
        "    [1608, 4802, 3932, 4477, 2705],\n",
        "    [1576, 3933, 3909, 4979, 2685],\n",
        "    [  95,  229,  255,  496,  201],\n",
        "    [   2,    0,    1,   27,    0],\n",
        "    [1438, 3785, 3589, 4174, 2215],\n",
        "    [1342, 4043, 4009, 4665, 3033]\n",
        "])\n",
        "\n",
        "def min_and_max_riders_per_day(ridership):\n",
        "    '''\n",
        "    Fill in this function. First, for each subway station, calculate the\n",
        "    mean ridership per day. Then, out of all the subway stations, return the\n",
        "    maximum and minimum of these values. That is, find the maximum\n",
        "    mean-ridership-per-day and the minimum mean-ridership-per-day for any\n",
        "    subway station.\n",
        "    '''\n",
        "    mean_for_each_station = ridership.mean(axis=0)\n",
        "    max_daily_ridership =  mean_for_each_station.max()    # Replace this with your code\n",
        "    min_daily_ridership =  mean_for_each_station.min()   # Replace this with your code\n",
        "    \n",
        "    return (max_daily_ridership, min_daily_ridership)\n",
        "    \n",
        "    "
      ],
      "execution_count": null,
      "outputs": []
    },
    {
      "cell_type": "code",
      "metadata": {
        "id": "LDRIomvWRSac"
      },
      "source": [
        "def mean_riders_for_max_station(ridership_df):\n",
        "    '''\n",
        "    Fill in this function to find the station with the maximum riders on the\n",
        "    first day, then return the mean riders per day for that station. Also\n",
        "    return the mean ridership overall for comparsion.\n",
        "    \n",
        "    This is the same as a previous exercise, but this time the\n",
        "    input is a Pandas DataFrame rather than a 2D NumPy array.\n",
        "    '''\n",
        "    max_station = ridership_df.iloc[0].argmax()\n",
        "    overall_mean = ridership_df.values.mean() # Replace this with your code\n",
        "    mean_for_max = ridership_df[max_station].mean() # Replace this with your code\n",
        "    \n",
        "    return (overall_mean, mean_for_max)\n",
        "    \n",
        "    "
      ],
      "execution_count": null,
      "outputs": []
    }
  ]
}