{
  "nbformat": 4,
  "nbformat_minor": 0,
  "metadata": {
    "colab": {
      "name": "Quiz_chapter3.ipynb",
      "provenance": [],
      "authorship_tag": "ABX9TyN4y70qDGUcTp5GabS4Eiqo",
      "include_colab_link": true
    },
    "kernelspec": {
      "name": "python3",
      "display_name": "Python 3"
    }
  },
  "cells": [
    {
      "cell_type": "markdown",
      "metadata": {
        "id": "view-in-github",
        "colab_type": "text"
      },
      "source": [
        "<a href=\"https://colab.research.google.com/github/nerthiga/Introduction_to_Data_Analysis_Udacity/blob/main/Quiz_chapter3.ipynb\" target=\"_parent\"><img src=\"https://colab.research.google.com/assets/colab-badge.svg\" alt=\"Open In Colab\"/></a>"
      ]
    },
    {
      "cell_type": "code",
      "metadata": {
        "id": "gckyOtNLQeCM"
      },
      "source": [
        "def mean_riders_for_max_station(ridership):\n",
        "    '''\n",
        "    Fill in this function to find the station with the maximum riders on the\n",
        "    first day, then return the mean riders per day for that station. Also\n",
        "    return the mean ridership overall for comparsion.\n",
        "    \n",
        "    Hint: NumPy's argmax() function might be useful:\n",
        "    http://docs.scipy.org/doc/numpy/reference/generated/numpy.argmax.html\n",
        "    '''\n",
        "    \n",
        "    max_station = ridership[0, :].argmax()\n",
        "    overall_mean = ridership.mean()\n",
        "    mean_for_max = ridership[:, max_station].mean() \n",
        "    \n",
        "    return (overall_mean, mean_for_max)\n",
        "    \n",
        "print mean_riders_for_max_station(ridership)    \n",
        "    \n",
        "    "
      ],
      "execution_count": null,
      "outputs": []
    }
  ]
}