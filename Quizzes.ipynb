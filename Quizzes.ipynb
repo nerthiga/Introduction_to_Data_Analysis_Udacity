{
  "nbformat": 4,
  "nbformat_minor": 0,
  "metadata": {
    "colab": {
      "name": "Quizzes.ipynb",
      "provenance": [],
      "authorship_tag": "ABX9TyNmeeMJtP3ovvLgn8UfI6Ju",
      "include_colab_link": true
    },
    "kernelspec": {
      "name": "python3",
      "display_name": "Python 3"
    }
  },
  "cells": [
    {
      "cell_type": "markdown",
      "metadata": {
        "id": "view-in-github",
        "colab_type": "text"
      },
      "source": [
        "<a href=\"https://colab.research.google.com/github/nerthiga/Introduction_to_Data_Analysis_Udacity/blob/main/Quizzes.ipynb\" target=\"_parent\"><img src=\"https://colab.research.google.com/assets/colab-badge.svg\" alt=\"Open In Colab\"/></a>"
      ]
    },
    {
      "cell_type": "code",
      "metadata": {
        "id": "9Mj2ryMa1IDb"
      },
      "source": [
        "from datetime import datetime as dt\n",
        "\n",
        "def parse_date(date):\n",
        "    if date == '':\n",
        "        return None\n",
        "    else:\n",
        "        return dt.strptime(date, '%Y-%m-%d')\n",
        "           \n",
        "def parse_maybe_int(i):\n",
        "    if i == '':\n",
        "       return None\n",
        "    else:\n",
        "       return int(i)\n",
        "       \n",
        "for enrollment in enrollments:\n",
        "      enrollment['cancel_date'] = parse_date(enrollment['cancel_date'])\n",
        "      enrollment['days_to_cancel'] = parse_maybe_int(enrollment['days_to_cancel'])\n",
        "      enrollment['is_canceled'] = enrollment['is_canceled'] == 'True'\n",
        "      enrollment['is_udacity'] = enrollment['is_udacity'] == 'True'\n",
        "      enrollment['join_date'] = parse_date(enrollment['join_date'])       \n",
        "    \n",
        "for engagement_record in daily_engagement:\n",
        "      engagement_record['lessons_completed'] = int(float(engagement_record['lessons_completed']))\n",
        "      engagement_record['num_courses_visited'] = int(float(engagement_record['num_courses_visited']))\n",
        "      engagement_record['projects_completed'] = int(float(engagement_record['projects_completed']))\n",
        "      engagement_record['total_minutes_visited'] = float(engagement_record['total_minutes_visited'])\n",
        "      engagement_record['utc_date'] = parse_date(engagement_record['utc_date'])\n",
        "      \n",
        "for submission in project_submissions:\n",
        "       submission['completion_date'] = parse_date(submission['completion_date'])\n",
        "       submission['creation_date'] = parse_date(submission['creation_date'])\n",
        "       \n",
        "       "
      ],
      "execution_count": null,
      "outputs": []
    }
  ]
}