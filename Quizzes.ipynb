{
  "nbformat": 4,
  "nbformat_minor": 0,
  "metadata": {
    "colab": {
      "name": "Quizzes.ipynb",
      "provenance": [],
      "authorship_tag": "ABX9TyP2KwnlMUOKGynJP/Fb/9bi",
      "include_colab_link": true
    },
    "kernelspec": {
      "name": "python3",
      "display_name": "Python 3"
    }
  },
  "cells": [
    {
      "cell_type": "markdown",
      "metadata": {
        "id": "view-in-github",
        "colab_type": "text"
      },
      "source": [
        "<a href=\"https://colab.research.google.com/github/nerthiga/Introduction_to_Data_Analysis_Udacity/blob/main/Quizzes.ipynb\" target=\"_parent\"><img src=\"https://colab.research.google.com/assets/colab-badge.svg\" alt=\"Open In Colab\"/></a>"
      ]
    },
    {
      "cell_type": "code",
      "metadata": {
        "id": "9Mj2ryMa1IDb"
      },
      "source": [
        "from datetime import datetime as dt\n",
        "\n",
        "def parse_date(date):\n",
        "    if date == '':\n",
        "        return None\n",
        "    else:\n",
        "        return dt.strptime(date, '%Y-%m-%d')\n",
        "           \n",
        "def parse_maybe_int(i):\n",
        "    if i == '':\n",
        "       return None\n",
        "    else:\n",
        "       return int(i)\n",
        "       \n",
        "for enrollment in enrollments:\n",
        "      enrollment['cancel_date'] = parse_date(enrollment['cancel_date'])\n",
        "      enrollment['days_to_cancel'] = parse_maybe_int(enrollment['days_to_cancel'])\n",
        "      enrollment['is_canceled'] = enrollment['is_canceled'] == 'True'\n",
        "      enrollment['is_udacity'] = enrollment['is_udacity'] == 'True'\n",
        "      enrollment['join_date'] = parse_date(enrollment['join_date'])       \n",
        "    \n",
        "for engagement_record in daily_engagement:\n",
        "      engagement_record['lessons_completed'] = int(float(engagement_record['lessons_completed']))\n",
        "      engagement_record['num_courses_visited'] = int(float(engagement_record['num_courses_visited']))\n",
        "      engagement_record['projects_completed'] = int(float(engagement_record['projects_completed']))\n",
        "      engagement_record['total_minutes_visited'] = float(engagement_record['total_minutes_visited'])\n",
        "      engagement_record['utc_date'] = parse_date(engagement_record['utc_date'])\n",
        "      \n",
        "for submission in project_submissions:\n",
        "       submission['completion_date'] = parse_date(submission['completion_date'])\n",
        "       submission['creation_date'] = parse_date(submission['creation_date'])\n",
        "       \n",
        "       "
      ],
      "execution_count": null,
      "outputs": []
    },
    {
      "cell_type": "code",
      "metadata": {
        "id": "n05vzb0h15EL"
      },
      "source": [
        "import numpy as np\n",
        "\n",
        "\n",
        "# Arithmetic operations between 2 NumPy arrays\n",
        "if True:\n",
        "    a = np.array([1, 2, 3, 4])\n",
        "    b = np.array([1, 2, 1, 2])\n",
        "    \n",
        "    print a + b\n",
        "    print a - b\n",
        "    print a * b\n",
        "    print a / b\n",
        "    print a ** b\n",
        "    \n",
        "# Arithmetic operations between a NumPy array and a single number\n",
        "if True:\n",
        "    a = np.array([1, 2, 3, 4])\n",
        "    b = 2\n",
        "    \n",
        "    print a + b\n",
        "    print a - b\n",
        "    print a * b\n",
        "    print a / b\n",
        "    print a ** b\n",
        "    "
      ],
      "execution_count": null,
      "outputs": []
    },
    {
      "cell_type": "code",
      "metadata": {
        "id": "j7WlVVqq2ihS"
      },
      "source": [
        "import pandas as pd\n",
        "\n",
        "# Addition when indexes are the same\n",
        "if True:\n",
        "    s1 = pd.Series([1, 2, 3, 4], index=['a', 'b', 'c', 'd'])\n",
        "    s2 = pd.Series([10, 20, 30, 40], index=['a', 'b', 'c', 'd'])\n",
        "    print s1 + s2\n",
        "\n",
        "# Indexes have same elements in a different order\n",
        "if True:\n",
        "    s1 = pd.Series([1, 2, 3, 4], index=['a', 'b', 'c', 'd'])\n",
        "    s2 = pd.Series([10, 20, 30, 40], index=['b', 'd', 'a', 'c'])\n",
        "    print s1 + s2"
      ],
      "execution_count": null,
      "outputs": []
    },
    {
      "cell_type": "code",
      "metadata": {
        "id": "6teKudqB6Pos"
      },
      "source": [
        "if True:\n",
        "    s1 = pd.Series([1, 2, 3, 4], index=['a', 'b', 'c', 'd'])\n",
        "    s2 = pd.Series([10, 20, 30, 40], index=['c', 'd', 'e', 'f'])\n",
        "    print s1 + s2\n",
        "\n",
        "# Indexes do not overlap\n",
        "if True:\n",
        "    s1 = pd.Series([1, 2, 3, 4], index=['a', 'b', 'c', 'd'])\n",
        "    s2 = pd.Series([10, 20, 30, 40], index=['e', 'f', 'g', 'h'])\n",
        "    print s1 + s2"
      ],
      "execution_count": null,
      "outputs": []
    }
  ]
}