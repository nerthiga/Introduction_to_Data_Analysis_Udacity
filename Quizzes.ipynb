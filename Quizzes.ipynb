{
  "nbformat": 4,
  "nbformat_minor": 0,
  "metadata": {
    "colab": {
      "name": "Quizzes.ipynb",
      "provenance": [],
      "authorship_tag": "ABX9TyMb+mm23TMAkPXYHS1AVrQb",
      "include_colab_link": true
    },
    "kernelspec": {
      "name": "python3",
      "display_name": "Python 3"
    }
  },
  "cells": [
    {
      "cell_type": "markdown",
      "metadata": {
        "id": "view-in-github",
        "colab_type": "text"
      },
      "source": [
        "<a href=\"https://colab.research.google.com/github/nerthiga/Introduction_to_Data_Analysis_Udacity/blob/main/Quizzes.ipynb\" target=\"_parent\"><img src=\"https://colab.research.google.com/assets/colab-badge.svg\" alt=\"Open In Colab\"/></a>"
      ]
    },
    {
      "cell_type": "code",
      "metadata": {
        "id": "9Mj2ryMa1IDb"
      },
      "source": [
        "from datetime import datetime as dt\n",
        "\n",
        "def parse_date(date):\n",
        "    if date == '':\n",
        "        return None\n",
        "    else:\n",
        "        return dt.strptime(date, '%Y-%m-%d')\n",
        "           \n",
        "def parse_maybe_int(i):\n",
        "    if i == '':\n",
        "       return None\n",
        "    else:\n",
        "       return int(i)\n",
        "       \n",
        "for enrollment in enrollments:\n",
        "      enrollment['cancel_date'] = parse_date(enrollment['cancel_date'])\n",
        "      enrollment['days_to_cancel'] = parse_maybe_int(enrollment['days_to_cancel'])\n",
        "      enrollment['is_canceled'] = enrollment['is_canceled'] == 'True'\n",
        "      enrollment['is_udacity'] = enrollment['is_udacity'] == 'True'\n",
        "      enrollment['join_date'] = parse_date(enrollment['join_date'])       \n",
        "    \n",
        "for engagement_record in daily_engagement:\n",
        "      engagement_record['lessons_completed'] = int(float(engagement_record['lessons_completed']))\n",
        "      engagement_record['num_courses_visited'] = int(float(engagement_record['num_courses_visited']))\n",
        "      engagement_record['projects_completed'] = int(float(engagement_record['projects_completed']))\n",
        "      engagement_record['total_minutes_visited'] = float(engagement_record['total_minutes_visited'])\n",
        "      engagement_record['utc_date'] = parse_date(engagement_record['utc_date'])\n",
        "      \n",
        "for submission in project_submissions:\n",
        "       submission['completion_date'] = parse_date(submission['completion_date'])\n",
        "       submission['creation_date'] = parse_date(submission['creation_date'])\n",
        "       \n",
        "       "
      ],
      "execution_count": null,
      "outputs": []
    },
    {
      "cell_type": "code",
      "metadata": {
        "id": "n05vzb0h15EL"
      },
      "source": [
        "import numpy as np\n",
        "\n",
        "\n",
        "# Arithmetic operations between 2 NumPy arrays\n",
        "if True:\n",
        "    a = np.array([1, 2, 3, 4])\n",
        "    b = np.array([1, 2, 1, 2])\n",
        "    \n",
        "    print a + b\n",
        "    print a - b\n",
        "    print a * b\n",
        "    print a / b\n",
        "    print a ** b\n",
        "    \n",
        "# Arithmetic operations between a NumPy array and a single number\n",
        "if True:\n",
        "    a = np.array([1, 2, 3, 4])\n",
        "    b = 2\n",
        "    \n",
        "    print a + b\n",
        "    print a - b\n",
        "    print a * b\n",
        "    print a / b\n",
        "    print a ** b\n",
        "    "
      ],
      "execution_count": null,
      "outputs": []
    },
    {
      "cell_type": "code",
      "metadata": {
        "id": "j7WlVVqq2ihS"
      },
      "source": [
        "import pandas as pd\n",
        "\n",
        "# Addition when indexes are the same\n",
        "if True:\n",
        "    s1 = pd.Series([1, 2, 3, 4], index=['a', 'b', 'c', 'd'])\n",
        "    s2 = pd.Series([10, 20, 30, 40], index=['a', 'b', 'c', 'd'])\n",
        "    print s1 + s2\n",
        "\n",
        "# Indexes have same elements in a different order\n",
        "if True:\n",
        "    s1 = pd.Series([1, 2, 3, 4], index=['a', 'b', 'c', 'd'])\n",
        "    s2 = pd.Series([10, 20, 30, 40], index=['b', 'd', 'a', 'c'])\n",
        "    print s1 + s2"
      ],
      "execution_count": null,
      "outputs": []
    },
    {
      "cell_type": "code",
      "metadata": {
        "id": "6teKudqB6Pos"
      },
      "source": [
        "if True:\n",
        "    s1 = pd.Series([1, 2, 3, 4], index=['a', 'b', 'c', 'd'])\n",
        "    s2 = pd.Series([10, 20, 30, 40], index=['c', 'd', 'e', 'f'])\n",
        "    print s1 + s2\n",
        "\n",
        "# Indexes do not overlap\n",
        "if True:\n",
        "    s1 = pd.Series([1, 2, 3, 4], index=['a', 'b', 'c', 'd'])\n",
        "    s2 = pd.Series([10, 20, 30, 40], index=['e', 'f', 'g', 'h'])\n",
        "    print s1 + s2"
      ],
      "execution_count": null,
      "outputs": []
    },
    {
      "cell_type": "code",
      "metadata": {
        "id": "kAxdhb9h6hsY"
      },
      "source": [
        "import pandas as pd\n",
        "\n",
        "# Subway ridership for 5 stations on 10 different days\n",
        "ridership_df = pd.DataFrame(\n",
        "    data=[[   0,    0,    2,    5,    0],\n",
        "          [1478, 3877, 3674, 2328, 2539],\n",
        "          [1613, 4088, 3991, 6461, 2691],\n",
        "          [1560, 3392, 3826, 4787, 2613],\n",
        "          [1608, 4802, 3932, 4477, 2705],\n",
        "          [1576, 3933, 3909, 4979, 2685],\n",
        "          [  95,  229,  255,  496,  201],\n",
        "          [   2,    0,    1,   27,    0],\n",
        "          [1438, 3785, 3589, 4174, 2215],\n",
        "          [1342, 4043, 4009, 4665, 3033]],\n",
        "    index=['05-01-11', '05-02-11', '05-03-11', '05-04-11', '05-05-11',\n",
        "           '05-06-11', '05-07-11', '05-08-11', '05-09-11', '05-10-11'],\n",
        "    columns=['R003', 'R004', 'R005', 'R006', 'R007']\n",
        ")\n",
        "\n",
        "# Change False to True for each block of code to see what it does\n",
        "\n",
        "# DataFrame creation\n",
        "if True:\n",
        "    # You can create a DataFrame out of a dictionary mapping column names to values\n",
        "    df_1 = pd.DataFrame({'A': [0, 1, 2], 'B': [3, 4, 5]})\n",
        "    print df_1\n",
        "\n",
        "    # You can also use a list of lists or a 2D NumPy array\n",
        "    df_2 = pd.DataFrame([[0, 1, 2], [3, 4, 5]], columns=['A', 'B', 'C'])\n",
        "    print df_2\n",
        "   "
      ],
      "execution_count": null,
      "outputs": []
    },
    {
      "cell_type": "code",
      "metadata": {
        "id": "aBTsf0CQWyod"
      },
      "source": [
        "import pandas as pd\n",
        "\n",
        "# Examples of vectorized operations on DataFrames:\n",
        "# Change False to True for each block of code to see what it does\n",
        "\n",
        "# Adding DataFrames with the column names\n",
        "if True:\n",
        "    df1 = pd.DataFrame({'a': [1, 2, 3], 'b': [4, 5, 6], 'c': [7, 8, 9]})\n",
        "    df2 = pd.DataFrame({'a': [10, 20, 30], 'b': [40, 50, 60], 'c': [70, 80, 90]})\n",
        "    print df1 + df2\n",
        "    \n",
        "# Adding DataFrames with overlapping column names \n",
        "if True:\n",
        "    df1 = pd.DataFrame({'a': [1, 2, 3], 'b': [4, 5, 6], 'c': [7, 8, 9]})\n",
        "    df2 = pd.DataFrame({'d': [10, 20, 30], 'c': [40, 50, 60], 'b': [70, 80, 90]})\n",
        "    print df1 + df2"
      ],
      "execution_count": null,
      "outputs": []
    },
    {
      "cell_type": "code",
      "metadata": {
        "id": "aL-sozioXOpq"
      },
      "source": [
        "num_students=0\n",
        "for enrollment in enrollments:\n",
        "    student=enrollment['account_key']\n",
        "    if student not in unique_daily_engagement and enrollment['join_date']!=enrollment['cancel_date']:\n",
        "        num_students+=1\n",
        "        print enrollment\n",
        "        \n",
        "print num_students\n"
      ],
      "execution_count": null,
      "outputs": []
    },
    {
      "cell_type": "code",
      "metadata": {
        "id": "eo1stPXVXeo8"
      },
      "source": [
        "paid_engagement_in_first_week = []\n",
        "\n",
        "for engagement in paid_engagements:\n",
        "    account_key = engagement['account_key']\n",
        "    join_date = paid_students[account_key]\n",
        "    engagement_date = engagement['utc_date']\n",
        "    \n",
        "    if within_one_week(join_date, engagement_date):\n",
        "        paid_engagement_in_first_week.append(engagement)\n",
        "        \n",
        "print len(paid_engagement_in_first_week) "
      ],
      "execution_count": null,
      "outputs": []
    }
  ]
}